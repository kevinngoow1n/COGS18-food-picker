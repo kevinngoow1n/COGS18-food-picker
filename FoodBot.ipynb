{
 "cells": [
  {
   "cell_type": "markdown",
   "metadata": {},
   "source": [
    "# Project Description"
   ]
  },
  {
   "cell_type": "markdown",
   "metadata": {},
   "source": [
    "My Food Picker Bot was created as a way to help people pick out what to eat. For any meal of the day, the bot serves to help you pick out what to eat.\n",
    "\n",
    "Just simply answer a few questions that the bot asks you and there should be a suggestion most of the time! Well...unless you are a picky eater."
   ]
  },
  {
   "cell_type": "markdown",
   "metadata": {},
   "source": [
    "## Project Code\n",
    "\n",
    "If it makes sense for your project, you can have code and outputs here in the notebook as well."
   ]
  },
  {
   "cell_type": "code",
   "execution_count": null,
   "metadata": {
    "scrolled": true
   },
   "outputs": [],
   "source": [
    "from my_module.functions import pick_food"
   ]
  },
  {
   "cell_type": "code",
   "execution_count": null,
   "metadata": {
    "scrolled": true
   },
   "outputs": [],
   "source": [
    "# hmm...let's see what the bot decides to give you\n",
    "pick_food()"
   ]
  },
  {
   "cell_type": "code",
   "execution_count": null,
   "metadata": {
    "scrolled": true
   },
   "outputs": [],
   "source": [
    "# for testing\n",
    "# refer to test_functions.py in my_module folder"
   ]
  },
  {
   "cell_type": "markdown",
   "metadata": {},
   "source": [
    "#### Extra Credit (*optional*)\n",
    "\n",
    "Prior to this class, I have had no experience of Python coding at all. Although I do have some knowledge of R, I was completely new to Python and have never coded in it before. My project went above and beyond the requirements of the project by embedding functions within functions and returning them based on specific inputs which was quite hard and challenging to do since I was able to write all of the code but to cut it down and made sure that there were few common errors and catchalls in the code stretched the time period in which I had to spend ont he project."
   ]
  }
 ],
 "metadata": {
  "kernelspec": {
   "display_name": "Python 3 (ipykernel)",
   "language": "python",
   "name": "python3"
  },
  "language_info": {
   "codemirror_mode": {
    "name": "ipython",
    "version": 3
   },
   "file_extension": ".py",
   "mimetype": "text/x-python",
   "name": "python",
   "nbconvert_exporter": "python",
   "pygments_lexer": "ipython3",
   "version": "3.9.5"
  }
 },
 "nbformat": 4,
 "nbformat_minor": 2
}
